{
  "nbformat": 4,
  "nbformat_minor": 0,
  "metadata": {
    "colab": {
      "provenance": [],
      "authorship_tag": "ABX9TyMyRCTgwj1g63b1aBnhBYc2",
      "include_colab_link": true
    },
    "kernelspec": {
      "name": "python3",
      "display_name": "Python 3"
    },
    "language_info": {
      "name": "python"
    }
  },
  "cells": [
    {
      "cell_type": "markdown",
      "metadata": {
        "id": "view-in-github",
        "colab_type": "text"
      },
      "source": [
        "<a href=\"https://colab.research.google.com/github/anamika1302/ML_algo_from_scratch/blob/main/Logistic_Regression.ipynb\" target=\"_parent\"><img src=\"https://colab.research.google.com/assets/colab-badge.svg\" alt=\"Open In Colab\"/></a>"
      ]
    },
    {
      "cell_type": "markdown",
      "source": [
        "# In this notebook, we will be writing logitic regression code from scratch:\n",
        "1. Load data from sklearn.datasets import make_classification, convert to asmatrix type and split.\n",
        "2. Write Logistic Regression class:\n",
        "###    Functions:\n",
        "    a) compute_z\n",
        "         - wT.X+b\n",
        "    b) compute yhat\n",
        "         - 1/1+e(-z)\n",
        "    c) compute loss\n",
        "        - y.T*np.log(y_hat) + (1-y).T*np.log(1-y_hat)\n",
        "    d) compute gradient:\n",
        "        - dL_dw = lr * np.dot(X.T,yhat-y)\n",
        "        - dL_db = lr *np.sum((yhat -y).T)\n",
        "    e) Update Weights and bias:\n",
        "        - W = W - alpha * dL_dw\n",
        "        - b = b - alpha * dL_db\n",
        "    f) Predict function:\n",
        "      use updated weight and bias to calculate z and y_hat"
      ],
      "metadata": {
        "id": "EvhP8qE9DgYH"
      }
    },
    {
      "cell_type": "code",
      "execution_count": 246,
      "metadata": {
        "id": "54N9g7adT6tv"
      },
      "outputs": [],
      "source": [
        "import numpy as np\n",
        "from sklearn.datasets import make_classification\n",
        "from sklearn.model_selection import train_test_split\n",
        "import matplotlib.pyplot as plt\n",
        "import math"
      ]
    },
    {
      "cell_type": "code",
      "source": [
        "X,Y = make_classification(n_samples= 100, n_classes=2, n_features=4)\n",
        "X = np.asmatrix(X)\n",
        "Y = np.asmatrix(Y).T"
      ],
      "metadata": {
        "id": "LBPdyjUNUGjT"
      },
      "execution_count": 177,
      "outputs": []
    },
    {
      "cell_type": "code",
      "source": [
        "X_train, X_test, Y_train, Y_test = train_test_split(X,Y, test_size=0.2, random_state=1)\n",
        "X_train.shape,Y_train.shape"
      ],
      "metadata": {
        "colab": {
          "base_uri": "https://localhost:8080/"
        },
        "id": "oGVOMWhwUeKR",
        "outputId": "41747a02-5cb9-436e-e0ff-cb300a56fe0e"
      },
      "execution_count": 178,
      "outputs": [
        {
          "output_type": "execute_result",
          "data": {
            "text/plain": [
              "((80, 4), (80, 1))"
            ]
          },
          "metadata": {},
          "execution_count": 178
        }
      ]
    },
    {
      "cell_type": "code",
      "source": [
        "\n",
        "class Logistic_Regression:\n",
        "\n",
        "    def __init__(self,epochs, learning_rate, alpha) -> None:\n",
        "      self.n_epochs = epochs\n",
        "      self.learning_rate =learning_rate\n",
        "      self.alpha = alpha\n",
        "\n",
        "    def compute_z(self,X_train, W, b):\n",
        "      z = np.dot(X_train, W) +b\n",
        "      return z\n",
        "\n",
        "    def cal_y_hat(self,z):\n",
        "      y_hat =1/(1 + np.exp(-z))\n",
        "      return y_hat\n",
        "\n",
        "    def log_loss(self,y_hat, y):\n",
        "      loss = (-1/y.shape[0])*(y.T*(np.log(y_hat+1e-8))+(1-y).T*(np.log(1-y_hat+1e-8)))\n",
        "      return loss.item()\n",
        "\n",
        "\n",
        "    def calculate_gradient(self,y_hat,y,X_train):\n",
        "      y_diff = y_hat-y\n",
        "      dL_dw = self.learning_rate * np.dot(X_train.T,(y_diff))\n",
        "      dL_db = self.learning_rate + np.sum((y_hat - y).T)\n",
        "      return dL_dw,dL_db\n",
        "\n",
        "\n",
        "    def fit(self,X_train, Y_train):\n",
        "      n_samples, n_features = X_train.shape\n",
        "      W = np.mat(np.zeros(X.shape[1])).T\n",
        "      b = 0\n",
        "      loss_history = []\n",
        "      for i in range(self.n_epochs):\n",
        "        z = self.compute_z(X_train, W, b)\n",
        "        y_hat = self.cal_y_hat(z)\n",
        "        print(\"Z: {}, X: {},W: {}, b:{}, Y {}, Y_hat {}, 1-Y_hat{}\".format(z.shape, X_train.shape,W.shape,b, Y_train.shape,y_hat.shape, (1-y_hat).shape))\n",
        "        loss = self.log_loss(y_hat, Y_train)\n",
        "        dL_dw,dL_db = self.calculate_gradient(y_hat, Y_train, X_train)\n",
        "        # print(\"row {} ,dL_dw.shape: {} \".format{i,dL_dw})\n",
        "        W = W - self.alpha*dL_dw\n",
        "        b = b -self.alpha * dL_db\n",
        "        loss_history.append(loss)\n",
        "      return W,b, loss_history\n",
        "\n",
        "\n",
        "    def predict(self,W_updated,b_update,X_test):\n",
        "      z_pred = self.compute_z(X_test,W_updated,b_update)\n",
        "      y_pred = self.cal_y_hat(z_pred)\n",
        "      y_pred[y_pred<=0.5] = 0\n",
        "      y_pred[y_pred > 0.5] =1\n",
        "\n",
        "      return y_pred\n",
        "\n",
        "\n",
        "\n",
        "\n",
        "\n",
        "\n",
        ""
      ],
      "metadata": {
        "id": "5rVOCgrdUttc"
      },
      "execution_count": 266,
      "outputs": []
    },
    {
      "cell_type": "code",
      "source": [
        "lr = Logistic_Regression(10, 0.01,0.1 )"
      ],
      "metadata": {
        "id": "2MtYeJN-rOnJ"
      },
      "execution_count": 267,
      "outputs": []
    },
    {
      "cell_type": "code",
      "source": [
        "W,b, loss_history = lr.fit(X_train, Y_train)"
      ],
      "metadata": {
        "id": "bGjfxIiyrY7O"
      },
      "execution_count": 268,
      "outputs": []
    },
    {
      "cell_type": "code",
      "source": [
        "y_pred = lr.predict(W,b, X_test)\n",
        "loss = lr.log_loss(y_pred, Y_test)\n",
        "print(loss)"
      ],
      "metadata": {
        "colab": {
          "base_uri": "https://localhost:8080/"
        },
        "id": "_UvSW7-Crf9z",
        "outputId": "a9cac246-d9d5-4141-96d7-35aa7d679630"
      },
      "execution_count": 269,
      "outputs": [
        {
          "output_type": "stream",
          "name": "stdout",
          "text": [
            "1.8420680653952368\n"
          ]
        }
      ]
    },
    {
      "cell_type": "code",
      "source": [
        "plt.figure(figsize=(10,5))\n",
        "plt.plot(np.arange(1,len(loss_history)+1),loss_history,color='red',linewidth = 5)\n",
        "plt.title(\"Iteration vr error\")\n",
        "plt.xlabel(\"iterations\")\n",
        "plt.ylabel(\"Error\")"
      ],
      "metadata": {
        "colab": {
          "base_uri": "https://localhost:8080/",
          "height": 504
        },
        "id": "iM8s0FBr2flg",
        "outputId": "6e86bde6-3859-4b66-cd0c-aaf1b22ba71a"
      },
      "execution_count": 272,
      "outputs": [
        {
          "output_type": "execute_result",
          "data": {
            "text/plain": [
              "Text(0, 0.5, 'Error')"
            ]
          },
          "metadata": {},
          "execution_count": 272
        },
        {
          "output_type": "display_data",
          "data": {
            "text/plain": [
              "<Figure size 1000x500 with 1 Axes>"
            ],
            "image/png": "[encoded data removed]"
          },
          "metadata": {}
        }
      ]
    },
    {
      "cell_type": "code",
      "source": [],
      "metadata": {
        "id": "qsOXVvb15v2u"
      },
      "execution_count": null,
      "outputs": []
    }
  ]
}